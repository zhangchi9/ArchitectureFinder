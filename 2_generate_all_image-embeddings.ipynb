{
 "cells": [
  {
   "cell_type": "code",
   "execution_count": 1,
   "metadata": {},
   "outputs": [],
   "source": [
    "from tensorflow.keras.models import load_model\n",
    "import os\n",
    "import numpy as np\n",
    "import pandas as pd\n",
    "import cv2\n",
    "import matplotlib.pyplot as plt\n",
    "from numpy import dot\n",
    "from numpy.linalg import norm"
   ]
  },
  {
   "cell_type": "code",
   "execution_count": 2,
   "metadata": {},
   "outputs": [
    {
     "name": "stdout",
     "output_type": "stream",
     "text": [
      "WARNING:tensorflow:No training configuration found in save file: the model was *not* compiled. Compile it manually.\n"
     ]
    }
   ],
   "source": [
    "weigths_path = '../pretrained/sketch_embedding.h5'\n",
    "embedding_model = load_model(weigths_path)"
   ]
  },
  {
   "cell_type": "code",
   "execution_count": 4,
   "metadata": {},
   "outputs": [],
   "source": [
    "datas = '/Users/chizhang/Downloads/archive/architectural-styles-dataset/'"
   ]
  },
  {
   "cell_type": "code",
   "execution_count": 20,
   "metadata": {},
   "outputs": [
    {
     "name": "stdout",
     "output_type": "stream",
     "text": [
      "reading /Users/chizhang/Downloads/archive/architectural-styles-dataset/Palladian architecture\n",
      "reading /Users/chizhang/Downloads/archive/architectural-styles-dataset/Novelty architecture\n",
      "reading /Users/chizhang/Downloads/archive/architectural-styles-dataset/International style\n",
      "reading /Users/chizhang/Downloads/archive/architectural-styles-dataset/Chicago school architecture\n",
      "reading /Users/chizhang/Downloads/archive/architectural-styles-dataset/Beaux-Arts architecture\n",
      "reading /Users/chizhang/Downloads/archive/architectural-styles-dataset/Ancient Egyptian architecture\n",
      "reading /Users/chizhang/Downloads/archive/architectural-styles-dataset/Gothic architecture\n",
      "reading /Users/chizhang/Downloads/archive/architectural-styles-dataset/Tudor Revival architecture\n",
      "reading /Users/chizhang/Downloads/archive/architectural-styles-dataset/Romanesque architecture\n",
      "reading /Users/chizhang/Downloads/archive/architectural-styles-dataset/Colonial architecture\n",
      "reading /Users/chizhang/Downloads/archive/architectural-styles-dataset/American craftsman style\n",
      "reading /Users/chizhang/Downloads/archive/architectural-styles-dataset/Greek Revival architecture\n",
      "reading /Users/chizhang/Downloads/archive/architectural-styles-dataset/Queen Anne architecture\n",
      "reading /Users/chizhang/Downloads/archive/architectural-styles-dataset/Baroque architecture\n",
      "reading /Users/chizhang/Downloads/archive/architectural-styles-dataset/Edwardian architecture\n",
      "reading /Users/chizhang/Downloads/archive/architectural-styles-dataset/Art Nouveau architecture\n",
      "reading /Users/chizhang/Downloads/archive/architectural-styles-dataset/Deconstructivism\n",
      "reading /Users/chizhang/Downloads/archive/architectural-styles-dataset/Bauhaus architecture\n",
      "reading /Users/chizhang/Downloads/archive/architectural-styles-dataset/Georgian architecture\n",
      "reading /Users/chizhang/Downloads/archive/architectural-styles-dataset/Byzantine architecture\n",
      "reading /Users/chizhang/Downloads/archive/architectural-styles-dataset/Postmodern architecture\n",
      "reading /Users/chizhang/Downloads/archive/architectural-styles-dataset/Achaemenid architecture\n",
      "reading /Users/chizhang/Downloads/archive/architectural-styles-dataset/Art Deco architecture\n",
      "reading /Users/chizhang/Downloads/archive/architectural-styles-dataset/American Foursquare architecture\n",
      "reading /Users/chizhang/Downloads/archive/architectural-styles-dataset/Russian Revival architecture\n"
     ]
    }
   ],
   "source": [
    "data = {'class':[],'filepath':[]}\n",
    "for subpath in os.listdir(datas):\n",
    "    print(f'reading {datas}{subpath}')\n",
    "    image_name = os.listdir(f'{datas}{subpath}')\n",
    "    data['class'].extend([subpath]*len(image_name))\n",
    "    data['filepath'].extend([f'{datas}{subpath}/{im}' for im in image_name])"
   ]
  },
  {
   "cell_type": "code",
   "execution_count": 372,
   "metadata": {},
   "outputs": [],
   "source": [
    "df = pd.DataFrame(data)"
   ]
  },
  {
   "cell_type": "code",
   "execution_count": 3,
   "metadata": {},
   "outputs": [],
   "source": [
    "def sketchify(jc):\n",
    "\n",
    "    jc = np.uint8(jc)\n",
    "    \n",
    "    scale_percent = 1\n",
    "\n",
    "    width = int(jc.shape[1]*scale_percent)\n",
    "    height = int(jc.shape[0]*scale_percent)\n",
    "\n",
    "    dim = (width,height)\n",
    "    resized = cv2.resize(jc,dim,interpolation = cv2.INTER_AREA)\n",
    "\n",
    "    kernel_sharpening = np.array([[-1,-1,-1], \n",
    "                                  [-1, 9,-1],\n",
    "                                  [-1,-1,-1]])\n",
    "    sharpened = cv2.filter2D(resized,-1,kernel_sharpening)\n",
    "\n",
    "\n",
    "\n",
    "    gray = cv2.cvtColor(sharpened , cv2.COLOR_BGR2GRAY)\n",
    "    inv = 255-gray\n",
    "    gauss = cv2.GaussianBlur(inv,ksize=(15,15),sigmaX=0,sigmaY=0)\n",
    "\n",
    "    def dodgeV2(image,mask):\n",
    "        return cv2.divide(image,255-mask,scale=256)\n",
    "\n",
    "    pencil_jc = 255 - dodgeV2(gray,gauss)\n",
    "    img = np.zeros(jc.shape)\n",
    "    img[:,:,0] = pencil_jc\n",
    "    img[:,:,1] = pencil_jc\n",
    "    img[:,:,2] = pencil_jc\n",
    "    return img"
   ]
  },
  {
   "cell_type": "code",
   "execution_count": 4,
   "metadata": {},
   "outputs": [],
   "source": [
    "def get_embeedings(filepath):\n",
    "    img = cv2.imread(filepath)\n",
    "    img = cv2.resize(img,(256,256),interpolation = cv2.INTER_AREA)\n",
    "    sketch_im = sketchify(img)/255\n",
    "    embeddings = embedding_model.predict(sketch_im[np.newaxis,:,:,:])\n",
    "    return embeddings[0]"
   ]
  },
  {
   "cell_type": "code",
   "execution_count": 375,
   "metadata": {},
   "outputs": [],
   "source": [
    "from tqdm.notebook import tqdm"
   ]
  },
  {
   "cell_type": "code",
   "execution_count": 376,
   "metadata": {
    "scrolled": true
   },
   "outputs": [
    {
     "data": {
      "application/vnd.jupyter.widget-view+json": {
       "model_id": "3e6c80577a9b4254bb053ab0750fcda3",
       "version_major": 2,
       "version_minor": 0
      },
      "text/plain": [
       "HBox(children=(FloatProgress(value=0.0, max=15432.0), HTML(value='')))"
      ]
     },
     "metadata": {},
     "output_type": "display_data"
    },
    {
     "name": "stdout",
     "output_type": "stream",
     "text": [
      "\n"
     ]
    }
   ],
   "source": [
    "all_embeddings = []\n",
    "file_list = df.filepath.to_list()\n",
    "for i in tqdm(range(len(file_list))):\n",
    "    filepath = file_list[i]\n",
    "    all_embeddings.append(get_embeedings(filepath))"
   ]
  },
  {
   "cell_type": "code",
   "execution_count": 377,
   "metadata": {},
   "outputs": [],
   "source": [
    "emb_df = pd.DataFrame(np.stack(all_embeddings))\n",
    "\n",
    "df = pd.concat([df,emb_df],1)\n",
    "\n",
    "df.to_csv('./ArchiFinder/embeddings.csv',index=False)"
   ]
  }
 ],
 "metadata": {
  "kernelspec": {
   "display_name": "Python 3",
   "language": "python",
   "name": "python3"
  },
  "language_info": {
   "codemirror_mode": {
    "name": "ipython",
    "version": 3
   },
   "file_extension": ".py",
   "mimetype": "text/x-python",
   "name": "python",
   "nbconvert_exporter": "python",
   "pygments_lexer": "ipython3",
   "version": "3.7.9"
  }
 },
 "nbformat": 4,
 "nbformat_minor": 4
}
