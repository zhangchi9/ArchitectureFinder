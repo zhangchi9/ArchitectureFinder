{
 "cells": [
  {
   "cell_type": "markdown",
   "metadata": {},
   "source": [
    "### The script will train a deep convolutional neural network to classifer each image to its architectural styles. It contrains two steps:\n",
    "    1. Crate a classifer with transfer learning from Xception network. Freeze the base layer and only train the top layers.\n",
    "    2. Unfreeze the base layer, use a very small learning rate to fine tuning the base layers."
   ]
  },
  {
   "cell_type": "code",
   "execution_count": null,
   "metadata": {},
   "outputs": [],
   "source": [
    "import os\n",
    "from keras import preprocessing\n",
    "import matplotlib.pyplot as plt\n",
    "import shutil\n",
    "import numpy as np\n",
    "import keras\n",
    "import pandas as pd\n",
    "import cv2\n",
    "from keras.losses import categorical_crossentropy\n",
    "from keras.metrics import categorical_accuracy\n",
    "from keras.callbacks import ModelCheckpoint\n",
    "from webapp.utils import *"
   ]
  },
  {
   "cell_type": "code",
   "execution_count": null,
   "metadata": {},
   "outputs": [],
   "source": [
    "# Create train and test generator\n",
    "traingen = preprocessing.image.ImageDataGenerator(rescale=1/255.0,horizontal_flip=True,preprocessing_function=sketchify) #\n",
    "testgen = preprocessing.image.ImageDataGenerator(rescale=1/255.0,horizontal_flip=True,preprocessing_function=sketchify)\n",
    "train = '/scratch/zhang.chi9/train/'\n",
    "test = '/scratch/zhang.chi9/test/'\n",
    "train_generator = traingen.flow_from_directory(train)\n",
    "test_generator = testgen.flow_from_directory(test)"
   ]
  },
  {
   "cell_type": "code",
   "execution_count": null,
   "metadata": {},
   "outputs": [],
   "source": [
    "# Crate a classifer with transfer learning from Xception network. \n",
    "base_model = keras.applications.Xception(\n",
    "    weights='imagenet',  # Load weights pre-trained on ImageNet.\n",
    "    include_top=False) \n",
    "\n",
    "# Freeze the base layer and only train the top layers\n",
    "base_model.trainable = False\n",
    "\n",
    "inputs = keras.Input(shape=(None, None, 3))\n",
    "x = base_model(inputs)\n",
    "x = keras.layers.GlobalAveragePooling2D()(x)\n",
    "x = keras.layers.Dropout(0.8)(x)\n",
    "outputs = keras.layers.Dense(25,activation='softmax')(x)\n",
    "model = keras.Model(inputs, outputs)\n",
    "\n",
    "model.compile(optimizer=keras.optimizers.Adam(),\n",
    "              loss=categorical_crossentropy,\n",
    "              metrics=[categorical_accuracy])\n",
    "\n",
    "# Start training the neural nets and save the model if the validation accuracy improve\n",
    "weights_path = '/scratch/zhang.chi9/arch_weights/'\n",
    "best_acc = ModelCheckpoint(f'{weights_path}best_acc_model.h5', monitor='val_categorical_accuracy',save_best_only=True, mode='max',verbose = 1)\n",
    "model.fit_generator(train_generator, validation_data = test_generator, epochs = 10,callbacks=[best_acc])"
   ]
  },
  {
   "cell_type": "code",
   "execution_count": null,
   "metadata": {},
   "outputs": [],
   "source": [
    "# Unfreeze the base layer, use a very small learning rate to fine tuning the base layers\n",
    "base_model.trainable = True\n",
    "model.compile(optimizer=keras.optimizers.Adam(1e-5),\n",
    "              loss=categorical_crossentropy,\n",
    "              metrics=[categorical_accuracy])\n",
    "weights_path = '/scratch/zhang.chi9/arch_weights/'\n",
    "best_acc = ModelCheckpoint(f'{weights_path}best_acc_model.h5', monitor='val_categorical_accuracy',save_best_only=True, mode='max',verbose = 1)\n",
    "\n",
    "model.fit_generator(train_generator, validation_data = test_generator, epochs = 20,callbacks=[best_acc])"
   ]
  }
 ],
 "metadata": {
  "kernelspec": {
   "display_name": "Python 3",
   "language": "python",
   "name": "python3"
  },
  "language_info": {
   "codemirror_mode": {
    "name": "ipython",
    "version": 3
   },
   "file_extension": ".py",
   "mimetype": "text/x-python",
   "name": "python",
   "nbconvert_exporter": "python",
   "pygments_lexer": "ipython3",
   "version": "3.8.5"
  }
 },
 "nbformat": 4,
 "nbformat_minor": 4
}
