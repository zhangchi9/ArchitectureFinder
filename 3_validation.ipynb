{
 "cells": [
  {
   "cell_type": "markdown",
   "metadata": {},
   "source": [
    "### This script will validate the model using the validation dataset. The validation metrics used is normalized Discounted Cumulative Gain."
   ]
  },
  {
   "cell_type": "code",
   "execution_count": null,
   "metadata": {},
   "outputs": [],
   "source": [
    "from tensorflow.keras.models import load_model\n",
    "import os\n",
    "import numpy as np\n",
    "import pandas as pd\n",
    "import cv2\n",
    "import matplotlib.pyplot as plt\n",
    "from numpy import dot\n",
    "from numpy.linalg import norm\n",
    "from webapp.utils import *\n",
    "\n",
    "os.environ['KMP_DUPLICATE_LIB_OK']='True'"
   ]
  },
  {
   "cell_type": "code",
   "execution_count": null,
   "metadata": {},
   "outputs": [],
   "source": [
    "# load pretrained model and validation dataset\n",
    "weigths_path = '../pretrained/model.h5'\n",
    "model = load_model(weigths_path)\n",
    "\n",
    "x = os.listdir('../validatoin_dataset/extended_sketch/')\n",
    "x.sort()\n",
    "y = os.listdir('../validatoin_dataset/extended_image/')\n",
    "y.sort()\n",
    "input_output_association = dict(zip(x,y))\n",
    "top_k = 5\n",
    "nDCGs = []"
   ]
  },
  {
   "cell_type": "code",
   "execution_count": null,
   "metadata": {
    "scrolled": true
   },
   "outputs": [],
   "source": [
    "# Loop through every sketch and image in input_output_association and calculate the \n",
    "# normalized Discounted Cumulative Gain\n",
    "for i in range(len(input_output_association)):\n",
    "\n",
    "    sketch_file = x[i]\n",
    "    image_file = y[i]\n",
    "\n",
    "    sketch_file = '../validatoin_dataset/extended_sketch/' + sketch_file\n",
    "    image_file = '../validatoin_dataset/extended_image/' + image_file\n",
    "    \n",
    "    # calculate embeddings for sketch file and image file\n",
    "    _, embedding_vector,_ = get_embeddings(sketch_file)\n",
    "    class_name, _,style_  = get_embeddings(image_file)\n",
    "\n",
    "    # connect to the amazon database and pull other image embeddgins from there\n",
    "    conn, cursor = connect()\n",
    "    if len(class_name) == 1:\n",
    "        sql_query = f\"select * from image_embeddings where style in (\\'{class_name[0]}\\')\"\n",
    "    else:\n",
    "        sql_query = f\"select * from image_embeddings where style in {str(tuple(class_name))}\"\n",
    "\n",
    "    df = pd.read_sql(sql_query,conn)\n",
    "\n",
    "    conn.close()\n",
    "\n",
    "    # Calculate the similarities between the uploaed image and all images in the database.\n",
    "    similarity = []\n",
    "    for ind in range(len(df)):\n",
    "        embeddings = np.fromstring(df.iloc[ind,3], dtype=float, sep=',')\n",
    "        similarity.append(cosine_similarity(embeddings,embedding_vector))\n",
    "\n",
    "    df['similarity'] = similarity\n",
    "    df = df.sort_values(by = 'similarity', ascending=False)\n",
    "    similarity_ = cosine_similarity(embedding_vector,embedding_image)\n",
    "\n",
    "    # Get the rank of the top 5 images\n",
    "    rank = df.copy().loc[:,['style','similarity']]\n",
    "    tmp_ = pd.DataFrame({'style': [style_], 'similarity': [similarity_],'ranking': [1]})\n",
    "    rank = rank.append(tmp_).sort_values('similarity',ascending = False)\n",
    "    rank = rank.fillna(0)\n",
    "    rank.loc[(rank['style'] == style_), 'ranking' ] = 1\n",
    "    weights = [1/np.log2(i+2) for i in range(rank.shape[0])]\n",
    "    rank['weights'] = weights\n",
    "    rank = rank.iloc[:top_k]\n",
    "\n",
    "    perfect_ranking = np.ones(rank.shape[0])\n",
    "    perfect_ranking[0] = 1\n",
    "\n",
    "    # Calculate the nDCG metrics\n",
    "    DCG = np.sum(rank['ranking'] * rank['weights'])\n",
    "    iDCG = np.sum(np.array(perfect_ranking) * np.array(weights[:top_k]))\n",
    "    nDCG = DCG/iDCG\n",
    "\n",
    "    nDCGs.append(nDCG)\n"
   ]
  }
 ],
 "metadata": {
  "kernelspec": {
   "display_name": "Python 3",
   "language": "python",
   "name": "python3"
  },
  "language_info": {
   "codemirror_mode": {
    "name": "ipython",
    "version": 3
   },
   "file_extension": ".py",
   "mimetype": "text/x-python",
   "name": "python",
   "nbconvert_exporter": "python",
   "pygments_lexer": "ipython3",
   "version": "3.8.5"
  }
 },
 "nbformat": 4,
 "nbformat_minor": 4
}
