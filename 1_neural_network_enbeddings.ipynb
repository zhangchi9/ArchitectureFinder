{
 "cells": [
  {
   "cell_type": "code",
   "execution_count": 1,
   "metadata": {},
   "outputs": [],
   "source": [
    "import os"
   ]
  },
  {
   "cell_type": "code",
   "execution_count": 17,
   "metadata": {},
   "outputs": [],
   "source": [
    "data_dir = '/Users/chizhang/Downloads/archive/architectural-styles-dataset/'"
   ]
  },
  {
   "cell_type": "code",
   "execution_count": 19,
   "metadata": {},
   "outputs": [],
   "source": [
    "datas = {}\n",
    "datas['class'] = []\n",
    "datas['image_name'] = []"
   ]
  },
  {
   "cell_type": "code",
   "execution_count": 20,
   "metadata": {},
   "outputs": [],
   "source": [
    "for foldername in os.listdir(data_dir):\n",
    "    if not os.path.isdir(data_dir + foldername):\n",
    "        continue\n",
    "        \n",
    "    for image_name in os.listdir(data_dir + foldername):\n",
    "        datas['class'].append(foldername)\n",
    "        datas['image_name'].append(image_name)"
   ]
  },
  {
   "cell_type": "code",
   "execution_count": 21,
   "metadata": {},
   "outputs": [],
   "source": [
    "import pandas as pd"
   ]
  },
  {
   "cell_type": "code",
   "execution_count": 24,
   "metadata": {},
   "outputs": [],
   "source": [
    "df = pd.DataFrame(datas)"
   ]
  },
  {
   "cell_type": "code",
   "execution_count": 25,
   "metadata": {
    "scrolled": true
   },
   "outputs": [
    {
     "data": {
      "text/html": [
       "<div>\n",
       "<style scoped>\n",
       "    .dataframe tbody tr th:only-of-type {\n",
       "        vertical-align: middle;\n",
       "    }\n",
       "\n",
       "    .dataframe tbody tr th {\n",
       "        vertical-align: top;\n",
       "    }\n",
       "\n",
       "    .dataframe thead th {\n",
       "        text-align: right;\n",
       "    }\n",
       "</style>\n",
       "<table border=\"1\" class=\"dataframe\">\n",
       "  <thead>\n",
       "    <tr style=\"text-align: right;\">\n",
       "      <th></th>\n",
       "      <th>class</th>\n",
       "      <th>image_name</th>\n",
       "    </tr>\n",
       "  </thead>\n",
       "  <tbody>\n",
       "    <tr>\n",
       "      <th>0</th>\n",
       "      <td>Palladian architecture</td>\n",
       "      <td>011063.jpg</td>\n",
       "    </tr>\n",
       "    <tr>\n",
       "      <th>1</th>\n",
       "      <td>Palladian architecture</td>\n",
       "      <td>011077.jpg</td>\n",
       "    </tr>\n",
       "    <tr>\n",
       "      <th>2</th>\n",
       "      <td>Palladian architecture</td>\n",
       "      <td>gimage_011124.jpg</td>\n",
       "    </tr>\n",
       "    <tr>\n",
       "      <th>3</th>\n",
       "      <td>Palladian architecture</td>\n",
       "      <td>5044_792px-France_arc_et_senas_saline_royal_ma...</td>\n",
       "    </tr>\n",
       "    <tr>\n",
       "      <th>4</th>\n",
       "      <td>Palladian architecture</td>\n",
       "      <td>gimage_011130.jpg</td>\n",
       "    </tr>\n",
       "    <tr>\n",
       "      <th>...</th>\n",
       "      <td>...</td>\n",
       "      <td>...</td>\n",
       "    </tr>\n",
       "    <tr>\n",
       "      <th>15427</th>\n",
       "      <td>Russian Revival architecture</td>\n",
       "      <td>013862.jpg</td>\n",
       "    </tr>\n",
       "    <tr>\n",
       "      <th>15428</th>\n",
       "      <td>Russian Revival architecture</td>\n",
       "      <td>1777_655px-Klyazma_ChurchHolyMandylion.jpg</td>\n",
       "    </tr>\n",
       "    <tr>\n",
       "      <th>15429</th>\n",
       "      <td>Russian Revival architecture</td>\n",
       "      <td>013651.jpg</td>\n",
       "    </tr>\n",
       "    <tr>\n",
       "      <th>15430</th>\n",
       "      <td>Russian Revival architecture</td>\n",
       "      <td>911_600px-Valaam_GephsimanskiySketeChurch.jpg</td>\n",
       "    </tr>\n",
       "    <tr>\n",
       "      <th>15431</th>\n",
       "      <td>Russian Revival architecture</td>\n",
       "      <td>013679.jpg</td>\n",
       "    </tr>\n",
       "  </tbody>\n",
       "</table>\n",
       "<p>15432 rows × 2 columns</p>\n",
       "</div>"
      ],
      "text/plain": [
       "                              class  \\\n",
       "0            Palladian architecture   \n",
       "1            Palladian architecture   \n",
       "2            Palladian architecture   \n",
       "3            Palladian architecture   \n",
       "4            Palladian architecture   \n",
       "...                             ...   \n",
       "15427  Russian Revival architecture   \n",
       "15428  Russian Revival architecture   \n",
       "15429  Russian Revival architecture   \n",
       "15430  Russian Revival architecture   \n",
       "15431  Russian Revival architecture   \n",
       "\n",
       "                                              image_name  \n",
       "0                                             011063.jpg  \n",
       "1                                             011077.jpg  \n",
       "2                                      gimage_011124.jpg  \n",
       "3      5044_792px-France_arc_et_senas_saline_royal_ma...  \n",
       "4                                      gimage_011130.jpg  \n",
       "...                                                  ...  \n",
       "15427                                         013862.jpg  \n",
       "15428         1777_655px-Klyazma_ChurchHolyMandylion.jpg  \n",
       "15429                                         013651.jpg  \n",
       "15430      911_600px-Valaam_GephsimanskiySketeChurch.jpg  \n",
       "15431                                         013679.jpg  \n",
       "\n",
       "[15432 rows x 2 columns]"
      ]
     },
     "execution_count": 25,
     "metadata": {},
     "output_type": "execute_result"
    }
   ],
   "source": [
    "df"
   ]
  },
  {
   "cell_type": "code",
   "execution_count": 26,
   "metadata": {},
   "outputs": [
    {
     "data": {
      "text/plain": [
       "class\n",
       "Achaemenid architecture              715\n",
       "American Foursquare architecture     665\n",
       "American craftsman style             533\n",
       "Ancient Egyptian architecture        556\n",
       "Art Deco architecture                766\n",
       "Art Nouveau architecture             780\n",
       "Baroque architecture                 673\n",
       "Bauhaus architecture                 538\n",
       "Beaux-Arts architecture              657\n",
       "Byzantine architecture               515\n",
       "Chicago school architecture          403\n",
       "Colonial architecture                783\n",
       "Deconstructivism                     457\n",
       "Edwardian architecture               481\n",
       "Georgian architecture                608\n",
       "Gothic architecture                  553\n",
       "Greek Revival architecture           719\n",
       "International style                  627\n",
       "Novelty architecture                 552\n",
       "Palladian architecture               573\n",
       "Postmodern architecture              481\n",
       "Queen Anne architecture             1015\n",
       "Romanesque architecture              495\n",
       "Russian Revival architecture         539\n",
       "Tudor Revival architecture           748\n",
       "Name: image_name, dtype: int64"
      ]
     },
     "execution_count": 26,
     "metadata": {},
     "output_type": "execute_result"
    }
   ],
   "source": [
    "df.groupby(['class'])['image_name'].count()"
   ]
  },
  {
   "cell_type": "code",
   "execution_count": null,
   "metadata": {},
   "outputs": [],
   "source": []
  }
 ],
 "metadata": {
  "kernelspec": {
   "display_name": "Python 3",
   "language": "python",
   "name": "python3"
  },
  "language_info": {
   "codemirror_mode": {
    "name": "ipython",
    "version": 3
   },
   "file_extension": ".py",
   "mimetype": "text/x-python",
   "name": "python",
   "nbconvert_exporter": "python",
   "pygments_lexer": "ipython3",
   "version": "3.8.3"
  }
 },
 "nbformat": 4,
 "nbformat_minor": 4
}
