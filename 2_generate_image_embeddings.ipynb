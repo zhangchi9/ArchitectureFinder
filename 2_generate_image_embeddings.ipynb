{
 "cells": [
  {
   "cell_type": "markdown",
   "metadata": {},
   "source": [
    "### This script calculate embeddings for every images in the database. The finnal is saved into a csv file"
   ]
  },
  {
   "cell_type": "code",
   "execution_count": null,
   "metadata": {},
   "outputs": [],
   "source": [
    "from tensorflow.keras.models import load_model\n",
    "import os\n",
    "import numpy as np\n",
    "import pandas as pd\n",
    "import cv2\n",
    "import matplotlib.pyplot as plt\n",
    "from numpy import dot\n",
    "from numpy.linalg import norm\n",
    "from tqdm.notebook import tqdm\n",
    "from webapp.utils import *"
   ]
  },
  {
   "cell_type": "code",
   "execution_count": null,
   "metadata": {},
   "outputs": [],
   "source": [
    "# load the saved neural nets model\n",
    "weigths_path = '../pretrained/sketch_embedding.h5'\n",
    "embedding_model = load_model(weigths_path)\n",
    "datas = '/Users/chizhang/architectural-styles-dataset/'"
   ]
  },
  {
   "cell_type": "code",
   "execution_count": null,
   "metadata": {},
   "outputs": [],
   "source": [
    "# Calculate embeddings for every images in the database\n",
    "data = {'class':[],'filepath':[]}\n",
    "for subpath in os.listdir(datas):\n",
    "    print(f'reading {datas}{subpath}')\n",
    "    image_name = os.listdir(f'{datas}{subpath}')\n",
    "    data['class'].extend([subpath]*len(image_name))\n",
    "    data['filepath'].extend([f'{datas}{subpath}/{im}' for im in image_name])\n",
    "\n",
    "df = pd.DataFrame(data)\n",
    "all_embeddings = []\n",
    "file_list = df.filepath.to_list()\n",
    "for i in tqdm(range(len(file_list))):\n",
    "    filepath = file_list[i]\n",
    "    all_embeddings.append(get_embeedings(filepath))\n",
    "\n",
    "emb_df = pd.DataFrame(np.stack(all_embeddings))\n",
    "\n",
    "df = pd.concat([df,emb_df],1)\n",
    "\n",
    "df.to_csv('./ArchiFinder/embeddings.csv',index=False)"
   ]
  }
 ],
 "metadata": {
  "kernelspec": {
   "display_name": "Python 3",
   "language": "python",
   "name": "python3"
  },
  "language_info": {
   "codemirror_mode": {
    "name": "ipython",
    "version": 3
   },
   "file_extension": ".py",
   "mimetype": "text/x-python",
   "name": "python",
   "nbconvert_exporter": "python",
   "pygments_lexer": "ipython3",
   "version": "3.8.5"
  }
 },
 "nbformat": 4,
 "nbformat_minor": 4
}
