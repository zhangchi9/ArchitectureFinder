{
 "cells": [
  {
   "cell_type": "code",
   "execution_count": 364,
   "metadata": {},
   "outputs": [],
   "source": [
    "import config as creds\n",
    "import psycopg2"
   ]
  },
  {
   "cell_type": "code",
   "execution_count": 365,
   "metadata": {},
   "outputs": [
    {
     "name": "stdout",
     "output_type": "stream",
     "text": [
      "Connected to AWS DataBase!\n"
     ]
    }
   ],
   "source": [
    "def connect():\n",
    "    \n",
    "    # Set up a connection to the postgres server.\n",
    "    conn_string = \"host=\"+ creds.PGHOST +\" port=\"+ \"5432\" +\" dbname=\"+ creds.PGDATABASE +\" user=\" + creds.PGUSER \\\n",
    "                  +\" password=\"+ creds.PGPASSWORD\n",
    "    \n",
    "    conn = psycopg2.connect(conn_string)\n",
    "    print(\"Connected to AWS DataBase!\")\n",
    "\n",
    "    # Create a cursor object\n",
    "    cursor = conn.cursor()\n",
    "    \n",
    "    return conn, cursor\n",
    "\n",
    "conn, cursor = connect()"
   ]
  },
  {
   "cell_type": "code",
   "execution_count": 366,
   "metadata": {},
   "outputs": [],
   "source": [
    "import pandas as pd"
   ]
  },
  {
   "cell_type": "code",
   "execution_count": 367,
   "metadata": {},
   "outputs": [],
   "source": [
    "df = pd.read_sql('select * from public.\"Projects\"', conn)"
   ]
  },
  {
   "cell_type": "code",
   "execution_count": 368,
   "metadata": {},
   "outputs": [],
   "source": [
    "df2 = df[~df['categories'].str.contains(\"Interiors|Interior\")]"
   ]
  },
  {
   "cell_type": "code",
   "execution_count": 369,
   "metadata": {},
   "outputs": [
    {
     "name": "stderr",
     "output_type": "stream",
     "text": [
      "/Users/chizhang/opt/anaconda3/lib/python3.8/site-packages/pandas/core/generic.py:5159: SettingWithCopyWarning: \n",
      "A value is trying to be set on a copy of a slice from a DataFrame.\n",
      "Try using .loc[row_indexer,col_indexer] = value instead\n",
      "\n",
      "See the caveats in the documentation: https://pandas.pydata.org/pandas-docs/stable/user_guide/indexing.html#returning-a-view-versus-a-copy\n",
      "  self[name] = value\n"
     ]
    }
   ],
   "source": [
    "df2.categories = df2.categories.str.replace('&', ',')"
   ]
  },
  {
   "cell_type": "code",
   "execution_count": 370,
   "metadata": {},
   "outputs": [
    {
     "name": "stderr",
     "output_type": "stream",
     "text": [
      "/Users/chizhang/opt/anaconda3/lib/python3.8/site-packages/pandas/core/indexing.py:1596: SettingWithCopyWarning: \n",
      "A value is trying to be set on a copy of a slice from a DataFrame.\n",
      "Try using .loc[row_indexer,col_indexer] = value instead\n",
      "\n",
      "See the caveats in the documentation: https://pandas.pydata.org/pandas-docs/stable/user_guide/indexing.html#returning-a-view-versus-a-copy\n",
      "  self.obj[key] = _infer_fill_value(value)\n",
      "/Users/chizhang/opt/anaconda3/lib/python3.8/site-packages/pandas/core/indexing.py:1745: SettingWithCopyWarning: \n",
      "A value is trying to be set on a copy of a slice from a DataFrame.\n",
      "Try using .loc[row_indexer,col_indexer] = value instead\n",
      "\n",
      "See the caveats in the documentation: https://pandas.pydata.org/pandas-docs/stable/user_guide/indexing.html#returning-a-view-versus-a-copy\n",
      "  isetter(ilocs[0], value)\n"
     ]
    }
   ],
   "source": [
    "df2.loc[:,'class'] = df2.categories.str.split(',',expand = True)[0].apply(lambda x:x.strip())"
   ]
  },
  {
   "cell_type": "code",
   "execution_count": 371,
   "metadata": {},
   "outputs": [
    {
     "data": {
      "text/html": [
       "<div>\n",
       "<style scoped>\n",
       "    .dataframe tbody tr th:only-of-type {\n",
       "        vertical-align: middle;\n",
       "    }\n",
       "\n",
       "    .dataframe tbody tr th {\n",
       "        vertical-align: top;\n",
       "    }\n",
       "\n",
       "    .dataframe thead th {\n",
       "        text-align: right;\n",
       "    }\n",
       "</style>\n",
       "<table border=\"1\" class=\"dataframe\">\n",
       "  <thead>\n",
       "    <tr style=\"text-align: right;\">\n",
       "      <th></th>\n",
       "      <th>url</th>\n",
       "      <th>categories</th>\n",
       "      <th>architects</th>\n",
       "      <th>location</th>\n",
       "      <th>name</th>\n",
       "      <th>class</th>\n",
       "    </tr>\n",
       "  </thead>\n",
       "  <tbody>\n",
       "    <tr>\n",
       "      <th>1</th>\n",
       "      <td>https://www.archdaily.com/945238/hiding-house-...</td>\n",
       "      <td>Houses                                        ...</td>\n",
       "      <td>gners: \\nWutopia Lab                          ...</td>\n",
       "      <td>Shanghai, China                               ...</td>\n",
       "      <td>Hiding House _ Wutopia Lab                    ...</td>\n",
       "      <td>Houses</td>\n",
       "    </tr>\n",
       "    <tr>\n",
       "      <th>2</th>\n",
       "      <td>https://www.archdaily.com/886827/the-modern-vi...</td>\n",
       "      <td>Offices                                       ...</td>\n",
       "      <td>Ho Khue Architects                            ...</td>\n",
       "      <td>Sơn Trà, Vietnam                              ...</td>\n",
       "      <td>The Modern Village Office _ Ho Khue Architects...</td>\n",
       "      <td>Offices</td>\n",
       "    </tr>\n",
       "    <tr>\n",
       "      <th>3</th>\n",
       "      <td>https://www.archdaily.com/598648/equestrian-ce...</td>\n",
       "      <td>Stable, Swimming Pool, Heritage               ...</td>\n",
       "      <td>Carlos Castanheira, Clara Bastai              ...</td>\n",
       "      <td>Leça da Palmeira, Portugal                    ...</td>\n",
       "      <td>Equestrian Centre _ Carlos Castanheira + Clara...</td>\n",
       "      <td>Stable</td>\n",
       "    </tr>\n",
       "    <tr>\n",
       "      <th>4</th>\n",
       "      <td>https://www.archdaily.com/948759/aspen-communi...</td>\n",
       "      <td>Schools                                       ...</td>\n",
       "      <td>Studio B Architecture + Interiors             ...</td>\n",
       "      <td>Snowmass, United States                       ...</td>\n",
       "      <td>Aspen Community School  _ Studio B Architectur...</td>\n",
       "      <td>Schools</td>\n",
       "    </tr>\n",
       "    <tr>\n",
       "      <th>6</th>\n",
       "      <td>https://www.archdaily.com/948835/lrvo-house-ex...</td>\n",
       "      <td>Houses                                        ...</td>\n",
       "      <td>Vous Architecture &amp; Design                    ...</td>\n",
       "      <td>Saint-Herblain, France                        ...</td>\n",
       "      <td>LRVO House Extension  _ Vous Architecture &amp; De...</td>\n",
       "      <td>Houses</td>\n",
       "    </tr>\n",
       "    <tr>\n",
       "      <th>...</th>\n",
       "      <td>...</td>\n",
       "      <td>...</td>\n",
       "      <td>...</td>\n",
       "      <td>...</td>\n",
       "      <td>...</td>\n",
       "      <td>...</td>\n",
       "    </tr>\n",
       "    <tr>\n",
       "      <th>1586</th>\n",
       "      <td>https://www.archdaily.com/909531/hacettepe-uni...</td>\n",
       "      <td>Museum, Science Center, University            ...</td>\n",
       "      <td>rkal Architects                               ...</td>\n",
       "      <td>Ankara, Turkey                                ...</td>\n",
       "      <td>Hacettepe University- Museum and Center For Bi...</td>\n",
       "      <td>Museum</td>\n",
       "    </tr>\n",
       "    <tr>\n",
       "      <th>1587</th>\n",
       "      <td>https://www.archdaily.com/908622/house-in-port...</td>\n",
       "      <td>...</td>\n",
       "      <td>oão Vieira de Campos                          ...</td>\n",
       "      <td>Oporto, Portugal                              ...</td>\n",
       "      <td>House in Porto 2 _ João Vieira de Campos      ...</td>\n",
       "      <td></td>\n",
       "    </tr>\n",
       "    <tr>\n",
       "      <th>1588</th>\n",
       "      <td>https://www.archdaily.com/909421/apartments-at...</td>\n",
       "      <td>Residential                                   ...</td>\n",
       "      <td>lan Loci                                      ...</td>\n",
       "      <td>New Delhi, India                              ...</td>\n",
       "      <td>Apartments @ 143 _ Plan Loci                  ...</td>\n",
       "      <td>Residential</td>\n",
       "    </tr>\n",
       "    <tr>\n",
       "      <th>1589</th>\n",
       "      <td>https://www.archdaily.com/909352/haiyue-commun...</td>\n",
       "      <td>Cultural Center                               ...</td>\n",
       "      <td>&amp;M DESIGN LAB                                 ...</td>\n",
       "      <td>Shantou, China                                ...</td>\n",
       "      <td>Haiyue Community Cultural Center _ L&amp;M DESIGN ...</td>\n",
       "      <td>Cultural Center</td>\n",
       "    </tr>\n",
       "    <tr>\n",
       "      <th>1590</th>\n",
       "      <td>https://www.archdaily.com/909446/moss-garden-s...</td>\n",
       "      <td>Restaurant                                    ...</td>\n",
       "      <td>tudioVASE                                     ...</td>\n",
       "      <td>Gangnam-gu, South Korea                       ...</td>\n",
       "      <td>Moss Garden _ studioVASE                      ...</td>\n",
       "      <td>Restaurant</td>\n",
       "    </tr>\n",
       "  </tbody>\n",
       "</table>\n",
       "<p>1286 rows × 6 columns</p>\n",
       "</div>"
      ],
      "text/plain": [
       "                                                    url  \\\n",
       "1     https://www.archdaily.com/945238/hiding-house-...   \n",
       "2     https://www.archdaily.com/886827/the-modern-vi...   \n",
       "3     https://www.archdaily.com/598648/equestrian-ce...   \n",
       "4     https://www.archdaily.com/948759/aspen-communi...   \n",
       "6     https://www.archdaily.com/948835/lrvo-house-ex...   \n",
       "...                                                 ...   \n",
       "1586  https://www.archdaily.com/909531/hacettepe-uni...   \n",
       "1587  https://www.archdaily.com/908622/house-in-port...   \n",
       "1588  https://www.archdaily.com/909421/apartments-at...   \n",
       "1589  https://www.archdaily.com/909352/haiyue-commun...   \n",
       "1590  https://www.archdaily.com/909446/moss-garden-s...   \n",
       "\n",
       "                                             categories  \\\n",
       "1     Houses                                        ...   \n",
       "2     Offices                                       ...   \n",
       "3     Stable, Swimming Pool, Heritage               ...   \n",
       "4     Schools                                       ...   \n",
       "6     Houses                                        ...   \n",
       "...                                                 ...   \n",
       "1586  Museum, Science Center, University            ...   \n",
       "1587                                                ...   \n",
       "1588  Residential                                   ...   \n",
       "1589  Cultural Center                               ...   \n",
       "1590  Restaurant                                    ...   \n",
       "\n",
       "                                             architects  \\\n",
       "1     gners: \\nWutopia Lab                          ...   \n",
       "2     Ho Khue Architects                            ...   \n",
       "3     Carlos Castanheira, Clara Bastai              ...   \n",
       "4     Studio B Architecture + Interiors             ...   \n",
       "6     Vous Architecture & Design                    ...   \n",
       "...                                                 ...   \n",
       "1586  rkal Architects                               ...   \n",
       "1587  oão Vieira de Campos                          ...   \n",
       "1588  lan Loci                                      ...   \n",
       "1589  &M DESIGN LAB                                 ...   \n",
       "1590  tudioVASE                                     ...   \n",
       "\n",
       "                                               location  \\\n",
       "1     Shanghai, China                               ...   \n",
       "2     Sơn Trà, Vietnam                              ...   \n",
       "3     Leça da Palmeira, Portugal                    ...   \n",
       "4     Snowmass, United States                       ...   \n",
       "6     Saint-Herblain, France                        ...   \n",
       "...                                                 ...   \n",
       "1586  Ankara, Turkey                                ...   \n",
       "1587  Oporto, Portugal                              ...   \n",
       "1588  New Delhi, India                              ...   \n",
       "1589  Shantou, China                                ...   \n",
       "1590  Gangnam-gu, South Korea                       ...   \n",
       "\n",
       "                                                   name            class  \n",
       "1     Hiding House _ Wutopia Lab                    ...           Houses  \n",
       "2     The Modern Village Office _ Ho Khue Architects...          Offices  \n",
       "3     Equestrian Centre _ Carlos Castanheira + Clara...           Stable  \n",
       "4     Aspen Community School  _ Studio B Architectur...          Schools  \n",
       "6     LRVO House Extension  _ Vous Architecture & De...           Houses  \n",
       "...                                                 ...              ...  \n",
       "1586  Hacettepe University- Museum and Center For Bi...           Museum  \n",
       "1587  House in Porto 2 _ João Vieira de Campos      ...                   \n",
       "1588  Apartments @ 143 _ Plan Loci                  ...      Residential  \n",
       "1589  Haiyue Community Cultural Center _ L&M DESIGN ...  Cultural Center  \n",
       "1590  Moss Garden _ studioVASE                      ...       Restaurant  \n",
       "\n",
       "[1286 rows x 6 columns]"
      ]
     },
     "execution_count": 371,
     "metadata": {},
     "output_type": "execute_result"
    }
   ],
   "source": [
    "df2"
   ]
  },
  {
   "cell_type": "code",
   "execution_count": 361,
   "metadata": {},
   "outputs": [
    {
     "data": {
      "text/plain": [
       "class\n",
       "Houses                    0.362883\n",
       "Apartments                0.049710\n",
       "Office Buildings          0.035626\n",
       "Hotels                    0.033969\n",
       "Mixed Use Architecture    0.025684\n",
       "                            ...   \n",
       "Grocery Store             0.000829\n",
       "Shopping Centers          0.000829\n",
       "Government                0.000829\n",
       "Fast Food                 0.000829\n",
       "Zoo                       0.000829\n",
       "Name: name, Length: 135, dtype: float64"
      ]
     },
     "execution_count": 361,
     "metadata": {},
     "output_type": "execute_result"
    }
   ],
   "source": [
    "df2.groupby('class').name.count().sort_values(ascending = False)/df2.shape[0]"
   ]
  },
  {
   "cell_type": "code",
   "execution_count": null,
   "metadata": {},
   "outputs": [],
   "source": []
  },
  {
   "cell_type": "code",
   "execution_count": null,
   "metadata": {},
   "outputs": [],
   "source": []
  },
  {
   "cell_type": "code",
   "execution_count": 323,
   "metadata": {},
   "outputs": [],
   "source": [
    "df2.categories = df2.categories.str.split(',').apply(lambda list_label: [x.strip() for x in list_label])"
   ]
  },
  {
   "cell_type": "code",
   "execution_count": 324,
   "metadata": {},
   "outputs": [],
   "source": [
    "df2 = df2[~df2.categories.apply(lambda x:len(x[0])==0)].reset_index(drop = True)"
   ]
  },
  {
   "cell_type": "code",
   "execution_count": null,
   "metadata": {},
   "outputs": [],
   "source": []
  },
  {
   "cell_type": "code",
   "execution_count": null,
   "metadata": {},
   "outputs": [],
   "source": []
  },
  {
   "cell_type": "code",
   "execution_count": 285,
   "metadata": {},
   "outputs": [],
   "source": [
    "labels = set([])"
   ]
  },
  {
   "cell_type": "code",
   "execution_count": 286,
   "metadata": {},
   "outputs": [],
   "source": [
    "for x in df2.categories:\n",
    "    labels = labels.union(set(x))"
   ]
  },
  {
   "cell_type": "code",
   "execution_count": 287,
   "metadata": {},
   "outputs": [],
   "source": [
    "import inflect\n",
    "p = inflect.engine()"
   ]
  },
  {
   "cell_type": "code",
   "execution_count": 288,
   "metadata": {},
   "outputs": [],
   "source": [
    "dictionary = {}\n",
    "\n",
    "for x in labels:\n",
    "    splitx = x.split(' ')\n",
    "    if p.singular_noun(x):\n",
    "        dictionary[x] = p.singular_noun(x)\n",
    "    else:\n",
    "        dictionary[x] = x\n",
    "    if len(splitx) > 1 and (splitx[-1] == 'Architecture'):\n",
    "        dictionary[x] = ' '.join(splitx[:-1])\n",
    "    if splitx[0] == 'Other':\n",
    "        dictionary[x] = 'Other'"
   ]
  },
  {
   "cell_type": "code",
   "execution_count": 289,
   "metadata": {},
   "outputs": [],
   "source": [
    "target = pd.DataFrame(columns = list(set(dictionary.values())))"
   ]
  },
  {
   "cell_type": "code",
   "execution_count": 290,
   "metadata": {},
   "outputs": [],
   "source": [
    "df3 = pd.concat([df2,target],1).fillna(0)"
   ]
  },
  {
   "cell_type": "code",
   "execution_count": 291,
   "metadata": {},
   "outputs": [],
   "source": [
    "for i, row in df3.iterrows():\n",
    "    for label in row.categories:\n",
    "        df3.loc[i, dictionary[label]] = 1"
   ]
  },
  {
   "cell_type": "code",
   "execution_count": 292,
   "metadata": {},
   "outputs": [
    {
     "data": {
      "text/html": [
       "<div>\n",
       "<style scoped>\n",
       "    .dataframe tbody tr th:only-of-type {\n",
       "        vertical-align: middle;\n",
       "    }\n",
       "\n",
       "    .dataframe tbody tr th {\n",
       "        vertical-align: top;\n",
       "    }\n",
       "\n",
       "    .dataframe thead th {\n",
       "        text-align: right;\n",
       "    }\n",
       "</style>\n",
       "<table border=\"1\" class=\"dataframe\">\n",
       "  <thead>\n",
       "    <tr style=\"text-align: right;\">\n",
       "      <th></th>\n",
       "      <th>url</th>\n",
       "      <th>categories</th>\n",
       "      <th>architects</th>\n",
       "      <th>location</th>\n",
       "      <th>name</th>\n",
       "      <th>Decoration</th>\n",
       "      <th>Heritage</th>\n",
       "      <th>Theater</th>\n",
       "      <th>Cruise Terminal</th>\n",
       "      <th>Greenhouse</th>\n",
       "      <th>...</th>\n",
       "      <th>Planetarium</th>\n",
       "      <th>Other</th>\n",
       "      <th>Exhibit</th>\n",
       "      <th>Performing Arts Center</th>\n",
       "      <th>Energy Plant</th>\n",
       "      <th>Concert House</th>\n",
       "      <th>Boathouse</th>\n",
       "      <th>Master Plan</th>\n",
       "      <th>Public</th>\n",
       "      <th>Retirement</th>\n",
       "    </tr>\n",
       "  </thead>\n",
       "  <tbody>\n",
       "    <tr>\n",
       "      <th>366</th>\n",
       "      <td>https://www.archdaily.com/944163/santomate-res...</td>\n",
       "      <td>[Restaurant, Renovation, Decoration, Ornament]</td>\n",
       "      <td>Daniela Bucio Sistos // Taller de Arquitectura...</td>\n",
       "      <td>Morelia, Mexico                               ...</td>\n",
       "      <td>Santomate Restaurant _ Daniela Bucio Sistos __...</td>\n",
       "      <td>1</td>\n",
       "      <td>0</td>\n",
       "      <td>0</td>\n",
       "      <td>0</td>\n",
       "      <td>0</td>\n",
       "      <td>...</td>\n",
       "      <td>0</td>\n",
       "      <td>0</td>\n",
       "      <td>0</td>\n",
       "      <td>0</td>\n",
       "      <td>0</td>\n",
       "      <td>0</td>\n",
       "      <td>0</td>\n",
       "      <td>0</td>\n",
       "      <td>0</td>\n",
       "      <td>0</td>\n",
       "    </tr>\n",
       "  </tbody>\n",
       "</table>\n",
       "<p>1 rows × 155 columns</p>\n",
       "</div>"
      ],
      "text/plain": [
       "                                                   url  \\\n",
       "366  https://www.archdaily.com/944163/santomate-res...   \n",
       "\n",
       "                                         categories  \\\n",
       "366  [Restaurant, Renovation, Decoration, Ornament]   \n",
       "\n",
       "                                            architects  \\\n",
       "366  Daniela Bucio Sistos // Taller de Arquitectura...   \n",
       "\n",
       "                                              location  \\\n",
       "366  Morelia, Mexico                               ...   \n",
       "\n",
       "                                                  name  Decoration  Heritage  \\\n",
       "366  Santomate Restaurant _ Daniela Bucio Sistos __...           1         0   \n",
       "\n",
       "     Theater  Cruise Terminal  Greenhouse  ...  Planetarium  Other  Exhibit  \\\n",
       "366        0                0           0  ...            0      0        0   \n",
       "\n",
       "     Performing Arts Center  Energy Plant  Concert House  Boathouse  \\\n",
       "366                       0             0              0          0   \n",
       "\n",
       "     Master Plan  Public  Retirement  \n",
       "366            0       0           0  \n",
       "\n",
       "[1 rows x 155 columns]"
      ]
     },
     "execution_count": 292,
     "metadata": {},
     "output_type": "execute_result"
    }
   ],
   "source": [
    "df3[df3['Decoration'] == 1]"
   ]
  },
  {
   "cell_type": "code",
   "execution_count": 293,
   "metadata": {},
   "outputs": [],
   "source": [
    "num_of_image = df3.iloc[:,5:].sum().sort_values(ascending = False);"
   ]
  },
  {
   "cell_type": "code",
   "execution_count": 297,
   "metadata": {},
   "outputs": [
    {
     "data": {
      "text/plain": [
       "House              441\n",
       "Renovation          88\n",
       "Apartment           68\n",
       "Office Building     61\n",
       "Hotel               41\n",
       "Mixed Use           36\n",
       "Restaurant          35\n",
       "Extension           33\n",
       "Residential         33\n",
       "Sustainability      33\n",
       "dtype: int64"
      ]
     },
     "execution_count": 297,
     "metadata": {},
     "output_type": "execute_result"
    }
   ],
   "source": [
    "num_of_image.iloc[:10]"
   ]
  },
  {
   "cell_type": "code",
   "execution_count": 295,
   "metadata": {},
   "outputs": [
    {
     "data": {
      "text/plain": [
       "Index(['House', 'Renovation', 'Apartment', 'Office Building', 'Hotel',\n",
       "       'Mixed Use', 'Restaurant', 'Extension', 'Residential', 'Sustainability',\n",
       "       'Installation', 'Museum', 'School', 'Office'],\n",
       "      dtype='object')"
      ]
     },
     "execution_count": 295,
     "metadata": {},
     "output_type": "execute_result"
    }
   ],
   "source": [
    "num_of_image[num_of_image>20].index"
   ]
  },
  {
   "cell_type": "code",
   "execution_count": 305,
   "metadata": {},
   "outputs": [],
   "source": [
    "important_classes = ['name','House','Apartment','Office Building','Hotel','Restaurant']"
   ]
  },
  {
   "cell_type": "code",
   "execution_count": 307,
   "metadata": {},
   "outputs": [],
   "source": [
    "df4 = df3.loc[:,df3.columns.isin(important_classes)]"
   ]
  },
  {
   "cell_type": "code",
   "execution_count": 311,
   "metadata": {},
   "outputs": [
    {
     "name": "stderr",
     "output_type": "stream",
     "text": [
      "<ipython-input-311-90657e0796ae>:1: SettingWithCopyWarning: \n",
      "A value is trying to be set on a copy of a slice from a DataFrame.\n",
      "Try using .loc[row_indexer,col_indexer] = value instead\n",
      "\n",
      "See the caveats in the documentation: https://pandas.pydata.org/pandas-docs/stable/user_guide/indexing.html#returning-a-view-versus-a-copy\n",
      "  df4['Other'] = (df4.loc[:,['House','Apartment','Office Building','Hotel','Restaurant']].sum(axis = 1) == 0)*1\n"
     ]
    }
   ],
   "source": [
    "df4['Other'] = (df4.loc[:,['House','Apartment','Office Building','Hotel','Restaurant']].sum(axis = 1) == 0)*1"
   ]
  },
  {
   "cell_type": "code",
   "execution_count": 312,
   "metadata": {},
   "outputs": [
    {
     "data": {
      "text/html": [
       "<div>\n",
       "<style scoped>\n",
       "    .dataframe tbody tr th:only-of-type {\n",
       "        vertical-align: middle;\n",
       "    }\n",
       "\n",
       "    .dataframe tbody tr th {\n",
       "        vertical-align: top;\n",
       "    }\n",
       "\n",
       "    .dataframe thead th {\n",
       "        text-align: right;\n",
       "    }\n",
       "</style>\n",
       "<table border=\"1\" class=\"dataframe\">\n",
       "  <thead>\n",
       "    <tr style=\"text-align: right;\">\n",
       "      <th></th>\n",
       "      <th>name</th>\n",
       "      <th>Hotel</th>\n",
       "      <th>Apartment</th>\n",
       "      <th>Restaurant</th>\n",
       "      <th>Office Building</th>\n",
       "      <th>House</th>\n",
       "      <th>Other</th>\n",
       "    </tr>\n",
       "  </thead>\n",
       "  <tbody>\n",
       "    <tr>\n",
       "      <th>0</th>\n",
       "      <td>Hiding House _ Wutopia Lab                    ...</td>\n",
       "      <td>0</td>\n",
       "      <td>0</td>\n",
       "      <td>0</td>\n",
       "      <td>0</td>\n",
       "      <td>1</td>\n",
       "      <td>0</td>\n",
       "    </tr>\n",
       "    <tr>\n",
       "      <th>1</th>\n",
       "      <td>The Modern Village Office _ Ho Khue Architects...</td>\n",
       "      <td>0</td>\n",
       "      <td>0</td>\n",
       "      <td>0</td>\n",
       "      <td>0</td>\n",
       "      <td>0</td>\n",
       "      <td>1</td>\n",
       "    </tr>\n",
       "    <tr>\n",
       "      <th>2</th>\n",
       "      <td>Equestrian Centre _ Carlos Castanheira + Clara...</td>\n",
       "      <td>0</td>\n",
       "      <td>0</td>\n",
       "      <td>0</td>\n",
       "      <td>0</td>\n",
       "      <td>0</td>\n",
       "      <td>1</td>\n",
       "    </tr>\n",
       "    <tr>\n",
       "      <th>3</th>\n",
       "      <td>Aspen Community School  _ Studio B Architectur...</td>\n",
       "      <td>0</td>\n",
       "      <td>0</td>\n",
       "      <td>0</td>\n",
       "      <td>0</td>\n",
       "      <td>0</td>\n",
       "      <td>1</td>\n",
       "    </tr>\n",
       "    <tr>\n",
       "      <th>4</th>\n",
       "      <td>LRVO House Extension  _ Vous Architecture &amp; De...</td>\n",
       "      <td>0</td>\n",
       "      <td>0</td>\n",
       "      <td>0</td>\n",
       "      <td>0</td>\n",
       "      <td>1</td>\n",
       "      <td>0</td>\n",
       "    </tr>\n",
       "    <tr>\n",
       "      <th>...</th>\n",
       "      <td>...</td>\n",
       "      <td>...</td>\n",
       "      <td>...</td>\n",
       "      <td>...</td>\n",
       "      <td>...</td>\n",
       "      <td>...</td>\n",
       "      <td>...</td>\n",
       "    </tr>\n",
       "    <tr>\n",
       "      <th>1171</th>\n",
       "      <td>Three Piece House _ TRIAS                     ...</td>\n",
       "      <td>0</td>\n",
       "      <td>0</td>\n",
       "      <td>0</td>\n",
       "      <td>0</td>\n",
       "      <td>1</td>\n",
       "      <td>0</td>\n",
       "    </tr>\n",
       "    <tr>\n",
       "      <th>1172</th>\n",
       "      <td>The Kamenice Brewery _ OTA atelier            ...</td>\n",
       "      <td>0</td>\n",
       "      <td>0</td>\n",
       "      <td>0</td>\n",
       "      <td>0</td>\n",
       "      <td>0</td>\n",
       "      <td>1</td>\n",
       "    </tr>\n",
       "    <tr>\n",
       "      <th>1173</th>\n",
       "      <td>Gerroa House _ Bourne Blue Architecture       ...</td>\n",
       "      <td>0</td>\n",
       "      <td>0</td>\n",
       "      <td>0</td>\n",
       "      <td>0</td>\n",
       "      <td>1</td>\n",
       "      <td>0</td>\n",
       "    </tr>\n",
       "    <tr>\n",
       "      <th>1174</th>\n",
       "      <td>K Building, School of Architecture and Constru...</td>\n",
       "      <td>0</td>\n",
       "      <td>0</td>\n",
       "      <td>0</td>\n",
       "      <td>0</td>\n",
       "      <td>0</td>\n",
       "      <td>1</td>\n",
       "    </tr>\n",
       "    <tr>\n",
       "      <th>1175</th>\n",
       "      <td>Barn Gallery _ INCLINEDESIGN                  ...</td>\n",
       "      <td>0</td>\n",
       "      <td>0</td>\n",
       "      <td>0</td>\n",
       "      <td>0</td>\n",
       "      <td>1</td>\n",
       "      <td>0</td>\n",
       "    </tr>\n",
       "  </tbody>\n",
       "</table>\n",
       "<p>1176 rows × 7 columns</p>\n",
       "</div>"
      ],
      "text/plain": [
       "                                                   name  Hotel  Apartment  \\\n",
       "0     Hiding House _ Wutopia Lab                    ...      0          0   \n",
       "1     The Modern Village Office _ Ho Khue Architects...      0          0   \n",
       "2     Equestrian Centre _ Carlos Castanheira + Clara...      0          0   \n",
       "3     Aspen Community School  _ Studio B Architectur...      0          0   \n",
       "4     LRVO House Extension  _ Vous Architecture & De...      0          0   \n",
       "...                                                 ...    ...        ...   \n",
       "1171  Three Piece House _ TRIAS                     ...      0          0   \n",
       "1172  The Kamenice Brewery _ OTA atelier            ...      0          0   \n",
       "1173  Gerroa House _ Bourne Blue Architecture       ...      0          0   \n",
       "1174  K Building, School of Architecture and Constru...      0          0   \n",
       "1175  Barn Gallery _ INCLINEDESIGN                  ...      0          0   \n",
       "\n",
       "      Restaurant  Office Building  House  Other  \n",
       "0              0                0      1      0  \n",
       "1              0                0      0      1  \n",
       "2              0                0      0      1  \n",
       "3              0                0      0      1  \n",
       "4              0                0      1      0  \n",
       "...          ...              ...    ...    ...  \n",
       "1171           0                0      1      0  \n",
       "1172           0                0      0      1  \n",
       "1173           0                0      1      0  \n",
       "1174           0                0      0      1  \n",
       "1175           0                0      1      0  \n",
       "\n",
       "[1176 rows x 7 columns]"
      ]
     },
     "execution_count": 312,
     "metadata": {},
     "output_type": "execute_result"
    }
   ],
   "source": [
    "df4"
   ]
  },
  {
   "cell_type": "code",
   "execution_count": 313,
   "metadata": {},
   "outputs": [
    {
     "data": {
      "text/html": [
       "<div>\n",
       "<style scoped>\n",
       "    .dataframe tbody tr th:only-of-type {\n",
       "        vertical-align: middle;\n",
       "    }\n",
       "\n",
       "    .dataframe tbody tr th {\n",
       "        vertical-align: top;\n",
       "    }\n",
       "\n",
       "    .dataframe thead th {\n",
       "        text-align: right;\n",
       "    }\n",
       "</style>\n",
       "<table border=\"1\" class=\"dataframe\">\n",
       "  <thead>\n",
       "    <tr style=\"text-align: right;\">\n",
       "      <th></th>\n",
       "      <th>Hotel</th>\n",
       "      <th>Apartment</th>\n",
       "      <th>Restaurant</th>\n",
       "      <th>Office Building</th>\n",
       "      <th>House</th>\n",
       "      <th>Other</th>\n",
       "    </tr>\n",
       "  </thead>\n",
       "  <tbody>\n",
       "    <tr>\n",
       "      <th>count</th>\n",
       "      <td>1176.000000</td>\n",
       "      <td>1176.000000</td>\n",
       "      <td>1176.000000</td>\n",
       "      <td>1176.000000</td>\n",
       "      <td>1176.000000</td>\n",
       "      <td>1176.000000</td>\n",
       "    </tr>\n",
       "    <tr>\n",
       "      <th>mean</th>\n",
       "      <td>0.034864</td>\n",
       "      <td>0.057823</td>\n",
       "      <td>0.029762</td>\n",
       "      <td>0.051871</td>\n",
       "      <td>0.375000</td>\n",
       "      <td>0.456633</td>\n",
       "    </tr>\n",
       "    <tr>\n",
       "      <th>std</th>\n",
       "      <td>0.183513</td>\n",
       "      <td>0.233508</td>\n",
       "      <td>0.170002</td>\n",
       "      <td>0.221860</td>\n",
       "      <td>0.484329</td>\n",
       "      <td>0.498328</td>\n",
       "    </tr>\n",
       "    <tr>\n",
       "      <th>min</th>\n",
       "      <td>0.000000</td>\n",
       "      <td>0.000000</td>\n",
       "      <td>0.000000</td>\n",
       "      <td>0.000000</td>\n",
       "      <td>0.000000</td>\n",
       "      <td>0.000000</td>\n",
       "    </tr>\n",
       "    <tr>\n",
       "      <th>25%</th>\n",
       "      <td>0.000000</td>\n",
       "      <td>0.000000</td>\n",
       "      <td>0.000000</td>\n",
       "      <td>0.000000</td>\n",
       "      <td>0.000000</td>\n",
       "      <td>0.000000</td>\n",
       "    </tr>\n",
       "    <tr>\n",
       "      <th>50%</th>\n",
       "      <td>0.000000</td>\n",
       "      <td>0.000000</td>\n",
       "      <td>0.000000</td>\n",
       "      <td>0.000000</td>\n",
       "      <td>0.000000</td>\n",
       "      <td>0.000000</td>\n",
       "    </tr>\n",
       "    <tr>\n",
       "      <th>75%</th>\n",
       "      <td>0.000000</td>\n",
       "      <td>0.000000</td>\n",
       "      <td>0.000000</td>\n",
       "      <td>0.000000</td>\n",
       "      <td>1.000000</td>\n",
       "      <td>1.000000</td>\n",
       "    </tr>\n",
       "    <tr>\n",
       "      <th>max</th>\n",
       "      <td>1.000000</td>\n",
       "      <td>1.000000</td>\n",
       "      <td>1.000000</td>\n",
       "      <td>1.000000</td>\n",
       "      <td>1.000000</td>\n",
       "      <td>1.000000</td>\n",
       "    </tr>\n",
       "  </tbody>\n",
       "</table>\n",
       "</div>"
      ],
      "text/plain": [
       "             Hotel    Apartment   Restaurant  Office Building        House  \\\n",
       "count  1176.000000  1176.000000  1176.000000      1176.000000  1176.000000   \n",
       "mean      0.034864     0.057823     0.029762         0.051871     0.375000   \n",
       "std       0.183513     0.233508     0.170002         0.221860     0.484329   \n",
       "min       0.000000     0.000000     0.000000         0.000000     0.000000   \n",
       "25%       0.000000     0.000000     0.000000         0.000000     0.000000   \n",
       "50%       0.000000     0.000000     0.000000         0.000000     0.000000   \n",
       "75%       0.000000     0.000000     0.000000         0.000000     1.000000   \n",
       "max       1.000000     1.000000     1.000000         1.000000     1.000000   \n",
       "\n",
       "             Other  \n",
       "count  1176.000000  \n",
       "mean      0.456633  \n",
       "std       0.498328  \n",
       "min       0.000000  \n",
       "25%       0.000000  \n",
       "50%       0.000000  \n",
       "75%       1.000000  \n",
       "max       1.000000  "
      ]
     },
     "execution_count": 313,
     "metadata": {},
     "output_type": "execute_result"
    }
   ],
   "source": [
    "df4.describe()"
   ]
  },
  {
   "cell_type": "code",
   "execution_count": null,
   "metadata": {},
   "outputs": [],
   "source": []
  }
 ],
 "metadata": {
  "kernelspec": {
   "display_name": "Python 3",
   "language": "python",
   "name": "python3"
  },
  "language_info": {
   "codemirror_mode": {
    "name": "ipython",
    "version": 3
   },
   "file_extension": ".py",
   "mimetype": "text/x-python",
   "name": "python",
   "nbconvert_exporter": "python",
   "pygments_lexer": "ipython3",
   "version": "3.8.5"
  }
 },
 "nbformat": 4,
 "nbformat_minor": 4
}
