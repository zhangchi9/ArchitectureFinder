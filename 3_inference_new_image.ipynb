{
 "cells": [
  {
   "cell_type": "code",
   "execution_count": 114,
   "metadata": {},
   "outputs": [],
   "source": [
    "from tensorflow.keras.models import load_model\n",
    "import os\n",
    "import numpy as np\n",
    "import pandas as pd\n",
    "import cv2\n",
    "import matplotlib.pyplot as plt\n",
    "from numpy import dot\n",
    "from numpy.linalg import norm\n",
    "from utils import *\n",
    "\n",
    "os.environ['KMP_DUPLICATE_LIB_OK']='True'"
   ]
  },
  {
   "cell_type": "code",
   "execution_count": 115,
   "metadata": {},
   "outputs": [
    {
     "name": "stdout",
     "output_type": "stream",
     "text": [
      "WARNING:tensorflow:Large dropout rate: 0.8 (>0.5). In TensorFlow 2.x, dropout() uses dropout rate instead of keep_prob. Please ensure that this is intended.\n",
      "WARNING:tensorflow:No training configuration found in save file: the model was *not* compiled. Compile it manually.\n"
     ]
    }
   ],
   "source": [
    "weigths_path = '../pretrained/model.h5'\n",
    "model = load_model(weigths_path)"
   ]
  },
  {
   "cell_type": "code",
   "execution_count": 116,
   "metadata": {},
   "outputs": [],
   "source": [
    "def sketchify(jc):\n",
    "\n",
    "    jc = np.uint8(jc)\n",
    "    \n",
    "    scale_percent = 1\n",
    "\n",
    "    width = int(jc.shape[1]*scale_percent)\n",
    "    height = int(jc.shape[0]*scale_percent)\n",
    "\n",
    "    dim = (width,height)\n",
    "    resized = cv2.resize(jc,dim,interpolation = cv2.INTER_AREA)\n",
    "\n",
    "    kernel_sharpening = np.array([[-1,-1,-1], \n",
    "                                  [-1, 9,-1],\n",
    "                                  [-1,-1,-1]])\n",
    "    sharpened = cv2.filter2D(resized,-1,kernel_sharpening)\n",
    "\n",
    "\n",
    "\n",
    "    gray = cv2.cvtColor(sharpened , cv2.COLOR_BGR2GRAY)\n",
    "    inv = 255-gray\n",
    "    gauss = cv2.GaussianBlur(inv,ksize=(15,15),sigmaX=0,sigmaY=0)\n",
    "\n",
    "    def dodgeV2(image,mask):\n",
    "        return cv2.divide(image,255-mask,scale=256)\n",
    "\n",
    "    pencil_jc = 255 - dodgeV2(gray,gauss)\n",
    "    img = np.zeros(jc.shape)\n",
    "    img[:,:,0] = pencil_jc\n",
    "    img[:,:,1] = pencil_jc\n",
    "    img[:,:,2] = pencil_jc\n",
    "    return img"
   ]
  },
  {
   "cell_type": "code",
   "execution_count": 125,
   "metadata": {},
   "outputs": [],
   "source": [
    "def get_embeedings(filepath):\n",
    "    img = cv2.imread(filepath)\n",
    "    img = cv2.resize(img,(256,256),interpolation = cv2.INTER_AREA)\n",
    "    sketch_im = sketchify(img)/255\n",
    "\n",
    "    output = model.predict(sketch_im[np.newaxis,:,:,:])\n",
    "    class_ = output[1]\n",
    "    embedding_vector = output[0][0]\n",
    "    index = np.where(class_[0] > 0.05)[0]\n",
    "    class_name = []\n",
    "    for i in index:\n",
    "        class_name.append(class_index[i])\n",
    "    return class_name, embedding_vector"
   ]
  },
  {
   "cell_type": "code",
   "execution_count": 118,
   "metadata": {},
   "outputs": [],
   "source": [
    "def cosine_similarity(a,b):\n",
    "    return dot(a, b)/(norm(a)*norm(b))"
   ]
  },
  {
   "cell_type": "code",
   "execution_count": 138,
   "metadata": {},
   "outputs": [
    {
     "name": "stdout",
     "output_type": "stream",
     "text": [
      "Connected to AWS DataBase!\n"
     ]
    }
   ],
   "source": [
    "#sketch_file = './webapp/sample_images/test_image1.png'\n",
    "#sketch_file = '../validation_image/Palladian architecture.png'\n",
    "sketch_file = '../extended_database/25-sketch.jpg'\n",
    "class_name, embedding_vector = get_embeedings(sketch_file)\n",
    "conn, cursor = connect()\n",
    "if len(class_name) == 1:\n",
    "    sql_query = f\"select * from image_embeddings where style in (\\'{class_name[0]}\\')\"\n",
    "else:\n",
    "    sql_query = f\"select * from image_embeddings where style in {str(tuple(class_name))}\"\n",
    "    \n",
    "df = pd.read_sql(sql_query,conn)\n",
    "\n",
    "similarity = []\n",
    "for i in range(len(df)):\n",
    "    embeddings = np.fromstring(df.iloc[i,3], dtype=float, sep=',')\n",
    "    similarity.append(cosine_similarity(embeddings,embedding_vector))\n",
    "\n",
    "df['similarity'] = similarity\n",
    "\n",
    "for i in range(15):\n",
    "    f = '/Users/chizhang/Downloads/archive' + df.sort_values(by = 'similarity', ascending=False).iloc[i,2]\n",
    "    plt.figure()\n",
    "    plt.imshow(cv2.imread(f))\n",
    "    plt.axis('off')"
   ]
  }
 ],
 "metadata": {
  "kernelspec": {
   "display_name": "Python 3",
   "language": "python",
   "name": "python3"
  },
  "language_info": {
   "codemirror_mode": {
    "name": "ipython",
    "version": 3
   },
   "file_extension": ".py",
   "mimetype": "text/x-python",
   "name": "python",
   "nbconvert_exporter": "python",
   "pygments_lexer": "ipython3",
   "version": "3.7.9"
  }
 },
 "nbformat": 4,
 "nbformat_minor": 4
}
