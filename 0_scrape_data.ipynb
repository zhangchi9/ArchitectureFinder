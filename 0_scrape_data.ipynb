{
 "cells": [
  {
   "cell_type": "code",
   "execution_count": 1,
   "metadata": {},
   "outputs": [],
   "source": [
    "from bs4 import BeautifulSoup\n",
    "import requests\n",
    "import urllib.request\n",
    "from selenium import webdriver\n",
    "import os\n",
    "import json\n",
    "import pandas as pd\n",
    "import time"
   ]
  },
  {
   "cell_type": "code",
   "execution_count": 2,
   "metadata": {},
   "outputs": [],
   "source": [
    "class Project:\n",
    "    def __init__(self,project_name, project_url):\n",
    "        self.project_name = project_name\n",
    "        self.project_url = project_url\n",
    "        self.get_first_image_url()\n",
    "        \n",
    "    def get_first_image_url(self):\n",
    "        \"\"\"\n",
    "        input: project_url\n",
    "        output: all image urls\n",
    "        \"\"\"\n",
    "        driver.get(self.project_url)\n",
    "        soup = BeautifulSoup(driver.page_source, 'lxml')\n",
    "        x = soup.find('a',{'class':'js-image-size__link'})\n",
    "        image_url = 'https://www.archdaily.com/' + x.attrs['href']\n",
    "        self.first_image_url = image_url\n",
    "\n",
    "    def down_load_all_images(self):\n",
    "        print(f'downing all images from project {self.project_name}')\n",
    "        driver.get(self.first_image_url)\n",
    "\n",
    "        soup = BeautifulSoup(driver.page_source, 'lxml')\n",
    "        \n",
    "        directory = f'../data/{self.project_name}'\n",
    "        if not os.path.exists(directory):\n",
    "            os.makedirs(directory)\n",
    "\n",
    "        download_urls = json.loads(soup.find('div', {'id':'gallery-items'}).attrs['data-images'])\n",
    "\n",
    "        for i in range(len(download_urls)):\n",
    "            response = requests.get(download_urls[i]['url_slideshow'])\n",
    "            file = open(f\"{directory}/{i}.png\", \"wb\")\n",
    "            file.write(response.content)\n",
    "            file.close()\n",
    "            \n",
    "        df = pd.read_csv('../data/projects.csv')\n",
    "        df_tmp = pd.DataFrame([[self.project_name, self.project_url,len(download_urls),directory]],columns=['project_name','project_url','number_of_images','folder'])\n",
    "        df = df.append(df_tmp)\n",
    "        df.to_csv('../data/projects.csv',index=False)"
   ]
  },
  {
   "cell_type": "code",
   "execution_count": 3,
   "metadata": {
    "scrolled": true
   },
   "outputs": [],
   "source": [
    "class Page:\n",
    "    def __init__(self, page_name, page_url):\n",
    "        self.page_name = page_name\n",
    "        self.page_url = page_url\n",
    "        self.projects = []\n",
    "        self.get_all_projects(URL)\n",
    "        \n",
    "    def get_all_projects(self,URL):\n",
    "        \"\"\"\n",
    "        input: a page url\n",
    "        return: list of projects_titles in this page\n",
    "                list of projects_urls in this page\n",
    "        \"\"\"\n",
    "        project_urls = []\n",
    "        project_titles = []\n",
    "        driver.get(URL)\n",
    "        soup = BeautifulSoup(driver.page_source, 'lxml')\n",
    "\n",
    "        gridview__content = soup.find_all('a', {'class':'gridview__content'})\n",
    "\n",
    "        for element in gridview__content:\n",
    "            project_url = element.attrs['href']\n",
    "            project_name = element.find('h3',{'class':\"gridview__entry-title\"}).text\n",
    "            project_name = project_name.replace('/','_')\n",
    "            project = Project(project_name,project_url)\n",
    "            self.projects.append(project)"
   ]
  },
  {
   "cell_type": "code",
   "execution_count": 4,
   "metadata": {},
   "outputs": [
    {
     "name": "stdout",
     "output_type": "stream",
     "text": [
      "waked up, scraping page 15...\n",
      "downing all images from project Beaumont Quarter _ Studio Woodroffe Papa\n",
      "downing all images from project Architectural Classics: Residencial San Felipe in Lima _ Enrique Ciriani + Mario Bernuy\n",
      "downing all images from project BIT Sports Center _ Atelier Alter Architects\n",
      "downing all images from project Read and Rest Hotel _ OFFICE AIO\n",
      "downing all images from project Aizumi Base _ FujiwaraMuro Architects\n",
      "downing all images from project Small Hotel _ CAPD\n",
      "downing all images from project WM Plenary Hall _ Bgnr Architects\n",
      "downing all images from project Nildo José Office  _ Nildo José\n",
      "downing all images from project Arouca's House _ Ana de Bastos + Filipe Xavier Oliveira\n",
      "downing all images from project Home^Dome House _ Idoia otegui_arquitectura\n",
      "downing all images from project Oslo Residential Complex _ Reiulf Ramstad Architects\n",
      "downing all images from project Spyder Flagship Store Gangnam _ Jo Nagasaka + Schemata Architects\n",
      "downing all images from project 45 House  _ Green Concept\n",
      "downing all images from project Big Space, Little Space _ Davidson Rafailidis\n",
      "downing all images from project Headquarters of the Province of Antwerp _ XDGA - Xaveer De Geyter Architects\n",
      "downing all images from project Atour S Hotel _ BEHIVE Architects\n",
      "downing all images from project House-N _ N.A.O\n",
      "downing all images from project Urban Development Exhibition Hall of Liuzhou _ XAA\n",
      "done scrape page 15, going to sleep for 2min\n",
      "waked up, scraping page 16...\n",
      "downing all images from project LF HOUSE  _ Rakta Studio\n",
      "downing all images from project Wirye Y-HOUSE _ Kode Architects\n",
      "downing all images from project House of Tranquility _ Tal Goldsmith Fish Design Studio\n",
      "downing all images from project HCM House _ Ginga Architects\n",
      "downing all images from project M1700 House _ RAVEL Architecture\n",
      "downing all images from project Hayloft _ loft buro\n",
      "downing all images from project LP3 House _ Diseño Norteño\n",
      "downing all images from project Casa Fundamental Kindergarten _ Gabriel Castro + Marcos Franchini + Pedro Haruf\n",
      "downing all images from project Hammarbyterrassen Goodbye Kansas HQ _ AIX Arkitekter\n",
      "downing all images from project Bathroom Pavillion Flor de Bambú _ FabrikG\n",
      "downing all images from project Tienda 14 Store _ Studio Animal\n",
      "downing all images from project Studio Nencini _ Alder Brisco\n",
      "downing all images from project harlan + holden store _ David Chipperfield Architects\n",
      "downing all images from project The Golden Jubilee Museum of Agriculture Office _ Plan Architect\n",
      "downing all images from project Open Sky House _ Yoshitaka Suzuki and Associates\n",
      "downing all images from project Gray Villa _ White Cube Atelier\n",
      "downing all images from project BeiBei Holiday BSC Marine Base _ Benjai architecture\n",
      "downing all images from project ANU Kambri Public Domain _ Iahznimmo architects + ASPECT Studios\n",
      "done scrape page 16, going to sleep for 2min\n",
      "waked up, scraping page 17...\n",
      "downing all images from project The Open Cabin _ Royal House Co.\n",
      "downing all images from project Yangsan SOSOSEOWON _ JYA-RCHITECTS\n",
      "downing all images from project DÔ Apartment _ flipê arquitetura\n",
      "downing all images from project Green Moon House  _ ALH Taller de Arquitectura\n",
      "downing all images from project São Marcos House _ António Pedro Faria\n",
      "downing all images from project Nygaard Square Renovation _ Mad arkitekter\n",
      "downing all images from project House D _ Aretz Dürr Architektur\n",
      "downing all images from project Melopee School _ XDGA - Xaveer De Geyter Architects\n",
      "downing all images from project Geijoeng Concept Store _ Studio 10\n",
      "downing all images from project House in Frutillar _ Duarte Fournies Arquitectos\n",
      "downing all images from project Office M _ takaomi yoshimoto + associates\n",
      "downing all images from project Tai’an Dongximen Village Renewal Project _ gad · line+ studio\n",
      "downing all images from project Ster House  _ DELUTION\n",
      "downing all images from project Bac Hong House _ LAB Concept\n",
      "downing all images from project Pyeongtaek Godeok Knowledge Industrial Center _ SEON Architecture & Engineering Group\n",
      "downing all images from project Mori Haus Residence _ Somdoon Architects\n",
      "downing all images from project Vila Madalena House _ Gui Paoliello Arquiteto\n",
      "downing all images from project Xpace Digital Park _ JL-Office + Studio QI\n",
      "done scrape page 17, going to sleep for 2min\n",
      "waked up, scraping page 18...\n",
      "downing all images from project Trio Residential Complex _ Diseño Norteño\n",
      "downing all images from project FG House Renovation _ Manzoniterra Arquitectos\n",
      "downing all images from project Loja Enjoy House _ Ticiane Lima Arquitetura & Interiores\n",
      "downing all images from project Liberdade Apartments _ TODOS Arquitetura\n",
      "downing all images from project Castro Bakery _ LADO Arquitectura e Design\n",
      "downing all images from project Holiday Home at Diyathalawa _ Damith Premathilake Architects\n",
      "downing all images from project The TerraMater Store _ RENESA Architecture Design Interiors Studio\n",
      "downing all images from project Domus Atrio House _ González Morgado Arquitectura\n",
      "downing all images from project Kindergarten Sluderno _ Roland Baldi Architects\n",
      "downing all images from project Six Sections  _ Studio Link-Arc\n",
      "downing all images from project Void Garden _ TAOA\n",
      "downing all images from project Hutong Courtyard House _ Ji Architect\n",
      "downing all images from project House in Higashisumiyoshi _ Horibe Associates\n",
      "downing all images from project Axis House _ LCGA Design\n",
      "downing all images from project M Street Building _ LESS\n",
      "downing all images from project RA House _ Oficina Conceito Arquitetura\n",
      "downing all images from project C+N House _ ALH Taller de Arquitectura\n",
      "downing all images from project Long House Apartment _ Talita Nogueira Arquitetura\n",
      "done scrape page 18, going to sleep for 2min\n",
      "waked up, scraping page 19...\n",
      "downing all images from project Alcôa Pastry _ Contacto Atlântico\n",
      "downing all images from project Paul-Zobel-Strasse Apartments _ Heide & von Beckerath\n",
      "downing all images from project Holy Fire Lit Place for the Second China National Youth Games 2019 _ URBANUS\n",
      "downing all images from project Office for Loona  _ Studio 11\n",
      "downing all images from project Leisure Space _ A3gm Arquitectos\n",
      "downing all images from project Rain-hearing Pavilion of AUA _ TJAD\n",
      "downing all images from project Splash Lab LA Showroom _ McLaren Excell\n",
      "downing all images from project EulJiDaRag _ Limtaehee Interior Design Studio\n",
      "downing all images from project Higashi Sanchome Toilet _ Nao Tamura\n",
      "downing all images from project The Silver Lining House _ Studio Lawang\n",
      "downing all images from project Mon House _ Royalhouse\n",
      "downing all images from project The Elemental _ Ashwin Architects\n",
      "downing all images from project Plan-i Headquater Office _ Yeha Partners Architects\n",
      "downing all images from project Sinsa-dong Office Complex  _ JMY architects\n",
      "downing all images from project Kannikegården  _ Lundgaard & Tranberg Architects\n",
      "downing all images from project Thermally Speaking Installation _ LeuWebb Projects + Mulvey & Banani Lighting\n",
      "downing all images from project Markas Headquarters _ ATP architects engineers\n",
      "downing all images from project Gasthaus Figlmüller Bäckerstraße Restaurant _ BWM Architekten\n",
      "done scrape page 19, going to sleep for 2min\n"
     ]
    }
   ],
   "source": [
    "for page_num in range(15,20):\n",
    "    driver = webdriver.Chrome('../chromedriver')\n",
    "    print(f'waked up, scraping page {page_num}...')\n",
    "    URL = f'https://www.archdaily.com/search/projects?page={page_num}'\n",
    "\n",
    "    page = Page(f'{page_num}',URL)\n",
    "\n",
    "    for project in page.projects:\n",
    "        project.down_load_all_images()\n",
    "        \n",
    "    driver.quit()\n",
    "    print(f'done scrape page {page_num}, going to sleep for 2min')\n",
    "    time.sleep(120)"
   ]
  },
  {
   "cell_type": "code",
   "execution_count": null,
   "metadata": {},
   "outputs": [],
   "source": []
  },
  {
   "cell_type": "code",
   "execution_count": 5,
   "metadata": {},
   "outputs": [],
   "source": [
    "df = pd.read_csv('../data/projects.csv')"
   ]
  },
  {
   "cell_type": "code",
   "execution_count": 6,
   "metadata": {},
   "outputs": [
    {
     "data": {
      "text/plain": [
       "9357"
      ]
     },
     "execution_count": 6,
     "metadata": {},
     "output_type": "execute_result"
    }
   ],
   "source": [
    "df.number_of_images.sum()"
   ]
  },
  {
   "cell_type": "code",
   "execution_count": 9,
   "metadata": {},
   "outputs": [
    {
     "data": {
      "text/html": [
       "<div>\n",
       "<style scoped>\n",
       "    .dataframe tbody tr th:only-of-type {\n",
       "        vertical-align: middle;\n",
       "    }\n",
       "\n",
       "    .dataframe tbody tr th {\n",
       "        vertical-align: top;\n",
       "    }\n",
       "\n",
       "    .dataframe thead th {\n",
       "        text-align: right;\n",
       "    }\n",
       "</style>\n",
       "<table border=\"1\" class=\"dataframe\">\n",
       "  <thead>\n",
       "    <tr style=\"text-align: right;\">\n",
       "      <th></th>\n",
       "      <th>project_name</th>\n",
       "      <th>project_url</th>\n",
       "      <th>number_of_images</th>\n",
       "      <th>folder</th>\n",
       "    </tr>\n",
       "  </thead>\n",
       "  <tbody>\n",
       "    <tr>\n",
       "      <th>0</th>\n",
       "      <td>Eyes Wide Open Apartment _ PRUSTA LTD</td>\n",
       "      <td>https://www.archdaily.com/947748/eyes-wide-ope...</td>\n",
       "      <td>36</td>\n",
       "      <td>../data/Eyes Wide Open Apartment _ PRUSTA LTD</td>\n",
       "    </tr>\n",
       "    <tr>\n",
       "      <th>1</th>\n",
       "      <td>Eyes Wide Open Apartment _ PRUSTA LTD</td>\n",
       "      <td>https://www.archdaily.com/947748/eyes-wide-ope...</td>\n",
       "      <td>36</td>\n",
       "      <td>../data/Eyes Wide Open Apartment _ PRUSTA LTD</td>\n",
       "    </tr>\n",
       "    <tr>\n",
       "      <th>2</th>\n",
       "      <td>The Quayside Mix Use Development _ CL3 Architects</td>\n",
       "      <td>https://www.archdaily.com/947950/the-quayside-...</td>\n",
       "      <td>20</td>\n",
       "      <td>../data/The Quayside Mix Use Development _ CL3...</td>\n",
       "    </tr>\n",
       "    <tr>\n",
       "      <th>3</th>\n",
       "      <td>Bar Beach House _ Bourne Blue Architecture</td>\n",
       "      <td>https://www.archdaily.com/948120/bar-beach-hou...</td>\n",
       "      <td>26</td>\n",
       "      <td>../data/Bar Beach House _ Bourne Blue Architec...</td>\n",
       "    </tr>\n",
       "    <tr>\n",
       "      <th>4</th>\n",
       "      <td>LAN-4 Installation _ oe architect</td>\n",
       "      <td>https://www.archdaily.com/948143/lan-4-install...</td>\n",
       "      <td>19</td>\n",
       "      <td>../data/LAN-4 Installation _ oe architect</td>\n",
       "    </tr>\n",
       "  </tbody>\n",
       "</table>\n",
       "</div>"
      ],
      "text/plain": [
       "                                        project_name  \\\n",
       "0              Eyes Wide Open Apartment _ PRUSTA LTD   \n",
       "1              Eyes Wide Open Apartment _ PRUSTA LTD   \n",
       "2  The Quayside Mix Use Development _ CL3 Architects   \n",
       "3         Bar Beach House _ Bourne Blue Architecture   \n",
       "4                  LAN-4 Installation _ oe architect   \n",
       "\n",
       "                                         project_url  number_of_images  \\\n",
       "0  https://www.archdaily.com/947748/eyes-wide-ope...                36   \n",
       "1  https://www.archdaily.com/947748/eyes-wide-ope...                36   \n",
       "2  https://www.archdaily.com/947950/the-quayside-...                20   \n",
       "3  https://www.archdaily.com/948120/bar-beach-hou...                26   \n",
       "4  https://www.archdaily.com/948143/lan-4-install...                19   \n",
       "\n",
       "                                              folder  \n",
       "0      ../data/Eyes Wide Open Apartment _ PRUSTA LTD  \n",
       "1      ../data/Eyes Wide Open Apartment _ PRUSTA LTD  \n",
       "2  ../data/The Quayside Mix Use Development _ CL3...  \n",
       "3  ../data/Bar Beach House _ Bourne Blue Architec...  \n",
       "4          ../data/LAN-4 Installation _ oe architect  "
      ]
     },
     "execution_count": 9,
     "metadata": {},
     "output_type": "execute_result"
    }
   ],
   "source": [
    "df.head()"
   ]
  },
  {
   "cell_type": "code",
   "execution_count": 10,
   "metadata": {},
   "outputs": [
    {
     "data": {
      "text/plain": [
       "(343, 4)"
      ]
     },
     "execution_count": 10,
     "metadata": {},
     "output_type": "execute_result"
    }
   ],
   "source": [
    "df.shape"
   ]
  },
  {
   "cell_type": "code",
   "execution_count": null,
   "metadata": {},
   "outputs": [],
   "source": []
  }
 ],
 "metadata": {
  "kernelspec": {
   "display_name": "Python 3",
   "language": "python",
   "name": "python3"
  },
  "language_info": {
   "codemirror_mode": {
    "name": "ipython",
    "version": 3
   },
   "file_extension": ".py",
   "mimetype": "text/x-python",
   "name": "python",
   "nbconvert_exporter": "python",
   "pygments_lexer": "ipython3",
   "version": "3.7.9"
  }
 },
 "nbformat": 4,
 "nbformat_minor": 4
}
